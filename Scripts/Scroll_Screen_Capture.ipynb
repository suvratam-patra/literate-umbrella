{
 "cells": [
  {
   "cell_type": "code",
   "execution_count": null,
   "metadata": {},
   "outputs": [],
   "source": [
    "# pip install PyAutoGUI==0.9.53\n",
    "import pyautogui\n",
    "\n",
    "# To get the current position of the scrollbar drag the mouse pointer to respective scrollbar.\n",
    "current_position = pyautogui.position()\n",
    "\n",
    "for i in range(1, 1000):\n",
    "    print(current_position.x, current_position.y) # Prints the pointer location in x - y position."
   ]
  },
  {
   "cell_type": "code",
   "execution_count": null,
   "metadata": {},
   "outputs": [],
   "source": [
    "import pyautogui\n",
    "\n",
    "\n",
    "for i in range(0, 4): \n",
    "    image = pyautogui.screenshot()\n",
    "    image.save(\"image_\" + str(i) + \".png\")\n",
    "    # pyautogui.click()\n",
    "    pyautogui.moveTo(1361, 352) # Replace pyautogui.moveTo(X, Y) with your scrollbar co-ordinates\n",
    "    pyautogui.scroll(-1000)"
   ]
  }
 ],
 "metadata": {
  "language_info": {
   "name": "python"
  },
  "orig_nbformat": 4
 },
 "nbformat": 4,
 "nbformat_minor": 2
}
